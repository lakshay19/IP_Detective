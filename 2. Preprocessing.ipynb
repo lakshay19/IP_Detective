{
 "cells": [
  {
   "cell_type": "code",
   "execution_count": 86,
   "id": "b6bc496a",
   "metadata": {},
   "outputs": [],
   "source": [
    "import pandas as pd"
   ]
  },
  {
   "cell_type": "code",
   "execution_count": 145,
   "id": "c9d13050",
   "metadata": {},
   "outputs": [],
   "source": [
    "# load all the data"
   ]
  },
  {
   "cell_type": "code",
   "execution_count": null,
   "id": "dabf95f5",
   "metadata": {},
   "outputs": [],
   "source": [
    "plaintiff_claims=pd.read_excel('plaintiff_claims.xlsx')\n",
    "plaintiff_descriptions=pd.read_excel('plaintiff_descriptions.xlsx')"
   ]
  },
  {
   "cell_type": "code",
   "execution_count": 129,
   "id": "b0570011",
   "metadata": {},
   "outputs": [],
   "source": [
    "# data is the dictionary for all the patents, the key is the patent number, and value is a dictionary of each part of a patent \n",
    "data = {}"
   ]
  },
  {
   "cell_type": "code",
   "execution_count": 130,
   "id": "9a1c739d",
   "metadata": {},
   "outputs": [],
   "source": [
    "# this function will update the dictionary data, filling it with new patent content from the input dataframe\n",
    "# df is the claims data and df_desc is the descriptions data\n",
    "def preprocess_adding(df,df_desc,data_dict):\n",
    "    # traverse each patent number\n",
    "    for idx, patent_number in enumerate(df_desc['Patent_Number']):\n",
    "        if patent_number not in data.keys():\n",
    "            data[patent_number] = dict()\n",
    "        \n",
    "        # Fill the abstract\n",
    "        data[patent_number]['Abstract']=df_desc['Abstract'][idx]\n",
    "        \n",
    "        # Fill the Claim Part\n",
    "        for jdx, claim in enumerate(df[df['Patent_Number']==patent_number]['Claim_Set']):\n",
    "            name = 'Claim_Set_' + str(jdx+1)\n",
    "            data[patent_number][name] = claim\n",
    "    \n",
    "        # Fill the Figure Description\n",
    "        filepath_figure=df_desc.iloc[idx, df_desc.columns.get_loc('Figures')]\n",
    "        lines=''\n",
    "        try:\n",
    "            with open(filepath_figure, 'rb') as f:\n",
    "                lines = f.read()\n",
    "        except FileNotFoundError:\n",
    "            pass\n",
    "\n",
    "        if lines:\n",
    "            data[patent_number]['Figures_Desc']=lines\n",
    "            \n",
    "        # Fill the Disclosures\n",
    "        filepath_figure=df_desc.iloc[idx, df_desc.columns.get_loc('Disclosure')]\n",
    "        lines=''\n",
    "        try:\n",
    "            with open(filepath_figure, 'rb') as f:\n",
    "                lines = f.read()\n",
    "        except FileNotFoundError:\n",
    "            pass\n",
    "        \n",
    "        if lines:\n",
    "            data[patent_number]['Disclosure']=lines"
   ]
  },
  {
   "cell_type": "code",
   "execution_count": null,
   "id": "1628e443",
   "metadata": {},
   "outputs": [],
   "source": [
    "preprocess_adding(plaintiff_claims,plaintiff_descriptions,data)"
   ]
  },
  {
   "cell_type": "code",
   "execution_count": 39,
   "id": "d36a3d93",
   "metadata": {},
   "outputs": [],
   "source": [
    "import json"
   ]
  },
  {
   "cell_type": "code",
   "execution_count": 143,
   "id": "73269e2a",
   "metadata": {},
   "outputs": [],
   "source": [
    "# this function save dict to JSON file\n",
    "def save_to_json(data,filename):\n",
    "    \n",
    "    class MyEncoder(json.JSONEncoder):\n",
    "        def default(self, obj):\n",
    "            if isinstance(obj, np.ndarray):\n",
    "                return obj.tolist()\n",
    "            elif isinstance(obj, bytes):\n",
    "                return str(obj, encoding='utf-8');\n",
    "            return json.JSONEncoder.default(self, obj)\n",
    "    \n",
    "    data_json = json.dumps(data,cls=MyEncoder,indent=4)\n",
    "    with open(filename, 'w') as json_file:\n",
    "        json_file.write(data_json)"
   ]
  },
  {
   "cell_type": "code",
   "execution_count": 144,
   "id": "6b954415",
   "metadata": {},
   "outputs": [],
   "source": [
    "# save to json file\n",
    "filename = 'patent_data.json'\n",
    "save_to_json(data,filename)"
   ]
  },
  {
   "cell_type": "code",
   "execution_count": null,
   "id": "d2c2cbdb",
   "metadata": {},
   "outputs": [],
   "source": []
  }
 ],
 "metadata": {
  "kernelspec": {
   "display_name": "Python 3 (ipykernel)",
   "language": "python",
   "name": "python3"
  },
  "language_info": {
   "codemirror_mode": {
    "name": "ipython",
    "version": 3
   },
   "file_extension": ".py",
   "mimetype": "text/x-python",
   "name": "python",
   "nbconvert_exporter": "python",
   "pygments_lexer": "ipython3",
   "version": "3.9.7"
  }
 },
 "nbformat": 4,
 "nbformat_minor": 5
}
